{
 "cells": [
  {
   "cell_type": "code",
   "execution_count": 1,
   "id": "0286eadb",
   "metadata": {},
   "outputs": [
    {
     "name": "stdout",
     "output_type": "stream",
     "text": [
      "Accuracy: 0.9761904761904762\n",
      "Classification Report:\n",
      "                                         precision    recall  f1-score   support\n",
      "\n",
      "(vertigo) Paroymsal  Positional Vertigo       1.00      1.00      1.00         1\n",
      "                                   AIDS       1.00      1.00      1.00         1\n",
      "                                   Acne       1.00      1.00      1.00         1\n",
      "                    Alcoholic hepatitis       1.00      1.00      1.00         1\n",
      "                                Allergy       1.00      1.00      1.00         1\n",
      "                              Arthritis       1.00      1.00      1.00         1\n",
      "                       Bronchial Asthma       1.00      1.00      1.00         1\n",
      "                   Cervical spondylosis       1.00      1.00      1.00         1\n",
      "                            Chicken pox       0.50      1.00      0.67         1\n",
      "                    Chronic cholestasis       1.00      1.00      1.00         1\n",
      "                            Common Cold       1.00      1.00      1.00         1\n",
      "                                 Dengue       1.00      1.00      1.00         1\n",
      "                              Diabetes        1.00      1.00      1.00         1\n",
      "           Dimorphic hemmorhoids(piles)       1.00      1.00      1.00         1\n",
      "                          Drug Reaction       1.00      1.00      1.00         1\n",
      "                       Fungal infection       1.00      0.50      0.67         2\n",
      "                                   GERD       1.00      1.00      1.00         1\n",
      "                        Gastroenteritis       1.00      1.00      1.00         1\n",
      "                           Heart attack       1.00      1.00      1.00         1\n",
      "                            Hepatitis B       1.00      1.00      1.00         1\n",
      "                            Hepatitis C       1.00      1.00      1.00         1\n",
      "                            Hepatitis D       1.00      1.00      1.00         1\n",
      "                            Hepatitis E       1.00      1.00      1.00         1\n",
      "                          Hypertension        1.00      1.00      1.00         1\n",
      "                        Hyperthyroidism       1.00      1.00      1.00         1\n",
      "                           Hypoglycemia       1.00      1.00      1.00         1\n",
      "                         Hypothyroidism       1.00      1.00      1.00         1\n",
      "                               Impetigo       1.00      1.00      1.00         1\n",
      "                               Jaundice       1.00      1.00      1.00         1\n",
      "                                Malaria       1.00      1.00      1.00         1\n",
      "                               Migraine       1.00      1.00      1.00         1\n",
      "                        Osteoarthristis       1.00      1.00      1.00         1\n",
      "           Paralysis (brain hemorrhage)       1.00      1.00      1.00         1\n",
      "                    Peptic ulcer diseae       1.00      1.00      1.00         1\n",
      "                              Pneumonia       1.00      1.00      1.00         1\n",
      "                              Psoriasis       1.00      1.00      1.00         1\n",
      "                           Tuberculosis       1.00      1.00      1.00         1\n",
      "                                Typhoid       1.00      1.00      1.00         1\n",
      "                Urinary tract infection       1.00      1.00      1.00         1\n",
      "                         Varicose veins       1.00      1.00      1.00         1\n",
      "                            hepatitis A       1.00      1.00      1.00         1\n",
      "\n",
      "                               accuracy                           0.98        42\n",
      "                              macro avg       0.99      0.99      0.98        42\n",
      "                           weighted avg       0.99      0.98      0.98        42\n",
      "\n"
     ]
    }
   ],
   "source": [
    "import pandas as pd\n",
    "from sklearn.ensemble import RandomForestClassifier\n",
    "from sklearn.metrics import accuracy_score, classification_report\n",
    "from sklearn.impute import SimpleImputer\n",
    "\n",
    "# 1. Reading the Datasets\n",
    "Train_df = pd.read_csv(r\"C:\\Users\\hp\\Downloads\\Diseases prediction dataset\\Training.csv\")\n",
    "Test_df = pd.read_csv(r\"C:\\Users\\hp\\Downloads\\Diseases prediction dataset\\Testing.csv\")\n",
    "\n",
    "# Drop the unnecessary column if it exists\n",
    "if 'Unnamed: 133' in Train_df.columns:\n",
    "    Train_df.drop('Unnamed: 133', axis=1, inplace=True)\n",
    "if 'Unnamed: 133' in Test_df.columns:\n",
    "    Test_df.drop('Unnamed: 133', axis=1, inplace=True)\n",
    "\n",
    "# Splitting features and target variable\n",
    "X_train = Train_df.drop('prognosis', axis=1)\n",
    "y_train = Train_df['prognosis']\n",
    "\n",
    "X_test = Test_df.drop('prognosis', axis=1)\n",
    "y_test = Test_df['prognosis']\n",
    "\n",
    "# Diagnose: Check if any column in X_train has all NaN values\n",
    "all_nan_columns = X_train.columns[X_train.isnull().all()].tolist()\n",
    "if all_nan_columns:\n",
    "    print(\"Columns with all NaN values:\", all_nan_columns)\n",
    "    X_train = X_train.drop(columns=all_nan_columns)\n",
    "    X_test = X_test.drop(columns=all_nan_columns)\n",
    "\n",
    "# 2. Handle Missing Values Using Imputation\n",
    "num_imputer = SimpleImputer(strategy=\"mean\")  # for numeric columns\n",
    "\n",
    "# Impute and retain the column names\n",
    "X_train_imputed = pd.DataFrame(num_imputer.fit_transform(X_train), columns=X_train.columns)\n",
    "X_test_imputed = pd.DataFrame(num_imputer.transform(X_test), columns=X_test.columns)\n",
    "\n",
    "# 3. Train the Model\n",
    "model = RandomForestClassifier()\n",
    "model.fit(X_train_imputed, y_train)\n",
    "\n",
    "# 4. Test the Model and Display Results\n",
    "y_pred = model.predict(X_test_imputed)\n",
    "\n",
    "print(\"Accuracy:\", accuracy_score(y_test, y_pred))\n",
    "print(\"Classification Report:\")\n",
    "print(classification_report(y_test, y_pred))\n"
   ]
  },
  {
   "cell_type": "code",
   "execution_count": null,
   "id": "877d7e81",
   "metadata": {},
   "outputs": [],
   "source": [
    "# Model Evaluation and Optimization:\n",
    "\n",
    "## a. Cross-Validation:"
   ]
  },
  {
   "cell_type": "code",
   "execution_count": 2,
   "id": "5333e73a",
   "metadata": {},
   "outputs": [
    {
     "name": "stdout",
     "output_type": "stream",
     "text": [
      "Average cross-validation score: 1.00\n"
     ]
    }
   ],
   "source": [
    "from sklearn.model_selection import cross_val_score\n",
    "scores = cross_val_score(model, X_train_imputed, y_train, cv=5)\n",
    "print(\"Average cross-validation score: {:.2f}\".format(scores.mean()))\n"
   ]
  }
 ],
 "metadata": {
  "kernelspec": {
   "display_name": "Python 3 (ipykernel)",
   "language": "python",
   "name": "python3"
  },
  "language_info": {
   "codemirror_mode": {
    "name": "ipython",
    "version": 3
   },
   "file_extension": ".py",
   "mimetype": "text/x-python",
   "name": "python",
   "nbconvert_exporter": "python",
   "pygments_lexer": "ipython3",
   "version": "3.10.9"
  }
 },
 "nbformat": 4,
 "nbformat_minor": 5
}
